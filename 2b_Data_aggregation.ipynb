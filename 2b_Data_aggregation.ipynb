{
 "cells": [
  {
   "cell_type": "code",
   "execution_count": 1,
   "metadata": {},
   "outputs": [],
   "source": [
    "import pandas as pd\n",
    "pd.set_option('display.max_colwidth', 200)"
   ]
  },
  {
   "cell_type": "code",
   "execution_count": 2,
   "metadata": {},
   "outputs": [
    {
     "data": {
      "text/html": [
       "<div>\n",
       "<style scoped>\n",
       "    .dataframe tbody tr th:only-of-type {\n",
       "        vertical-align: middle;\n",
       "    }\n",
       "\n",
       "    .dataframe tbody tr th {\n",
       "        vertical-align: top;\n",
       "    }\n",
       "\n",
       "    .dataframe thead th {\n",
       "        text-align: right;\n",
       "    }\n",
       "</style>\n",
       "<table border=\"1\" class=\"dataframe\">\n",
       "  <thead>\n",
       "    <tr style=\"text-align: right;\">\n",
       "      <th></th>\n",
       "      <th>ID</th>\n",
       "      <th>Date</th>\n",
       "      <th>Meeting Number</th>\n",
       "      <th>Agenda Name</th>\n",
       "      <th>Agenda Number</th>\n",
       "      <th>File Type</th>\n",
       "      <th>File Number</th>\n",
       "      <th>File Step</th>\n",
       "      <th>Speaker Name</th>\n",
       "      <th>Speaker Role</th>\n",
       "      <th>Speaker Start</th>\n",
       "      <th>Speaker End</th>\n",
       "      <th>Speech</th>\n",
       "    </tr>\n",
       "  </thead>\n",
       "  <tbody>\n",
       "    <tr>\n",
       "      <th>0</th>\n",
       "      <td>CBAEA326-B201-41AB-A756-029BA1F58D82</td>\n",
       "      <td>2009-10-30T10:00:00</td>\n",
       "      <td>9. møde</td>\n",
       "      <td>[None]</td>\n",
       "      <td>0</td>\n",
       "      <td>Formandens meddelelser</td>\n",
       "      <td></td>\n",
       "      <td></td>\n",
       "      <td>None</td>\n",
       "      <td>formand</td>\n",
       "      <td>2009-10-30T10:00:18.063</td>\n",
       "      <td>2009-10-30T10:01:04.997</td>\n",
       "      <td>Mødet er åbnet.I dag er der følgende anmeldelser: Thor Pedersen (V), Mogens Lykketoft (S), Søren Espersen (DF), Holger K. Nielsen (SF) og Helge Adam Møller (KF):Lovforslag nr. L 53 (Forslag til lo...</td>\n",
       "    </tr>\n",
       "  </tbody>\n",
       "</table>\n",
       "</div>"
      ],
      "text/plain": [
       "                                     ID                 Date Meeting Number  \\\n",
       "0  CBAEA326-B201-41AB-A756-029BA1F58D82  2009-10-30T10:00:00        9. møde   \n",
       "\n",
       "  Agenda Name Agenda Number               File Type File Number File Step  \\\n",
       "0      [None]             0  Formandens meddelelser                         \n",
       "\n",
       "  Speaker Name Speaker Role            Speaker Start              Speaker End  \\\n",
       "0         None      formand  2009-10-30T10:00:18.063  2009-10-30T10:01:04.997   \n",
       "\n",
       "                                                                                                                                                                                                    Speech  \n",
       "0  Mødet er åbnet.I dag er der følgende anmeldelser: Thor Pedersen (V), Mogens Lykketoft (S), Søren Espersen (DF), Holger K. Nielsen (SF) og Helge Adam Møller (KF):Lovforslag nr. L 53 (Forslag til lo...  "
      ]
     },
     "execution_count": 2,
     "metadata": {},
     "output_type": "execute_result"
    }
   ],
   "source": [
    "df = pd.read_pickle('FT-data-DSpace/data_processed.pickle')\n",
    "df.head(1)"
   ]
  },
  {
   "cell_type": "code",
   "execution_count": 3,
   "metadata": {},
   "outputs": [
    {
     "data": {
      "text/html": [
       "<div>\n",
       "<style scoped>\n",
       "    .dataframe tbody tr th:only-of-type {\n",
       "        vertical-align: middle;\n",
       "    }\n",
       "\n",
       "    .dataframe tbody tr th {\n",
       "        vertical-align: top;\n",
       "    }\n",
       "\n",
       "    .dataframe thead th {\n",
       "        text-align: right;\n",
       "    }\n",
       "</style>\n",
       "<table border=\"1\" class=\"dataframe\">\n",
       "  <thead>\n",
       "    <tr style=\"text-align: right;\">\n",
       "      <th></th>\n",
       "      <th>Date</th>\n",
       "      <th>Meeting Number</th>\n",
       "      <th>Agenda Number</th>\n",
       "      <th>Speech</th>\n",
       "    </tr>\n",
       "  </thead>\n",
       "  <tbody>\n",
       "    <tr>\n",
       "      <th>31608</th>\n",
       "      <td>2010-04-19T10:00:00</td>\n",
       "      <td>77. møde</td>\n",
       "      <td>5</td>\n",
       "      <td>Tak for det. Hr. Jesper Langballe har jo sådan set redegjort for en del af den meget alvorlige problemstilling, som vi står over for, og vi har jo også før i Folketingssalen haft diskussioner. I f...</td>\n",
       "    </tr>\n",
       "    <tr>\n",
       "      <th>38939</th>\n",
       "      <td>2010-06-10T10:00:00</td>\n",
       "      <td>105. møde</td>\n",
       "      <td>4</td>\n",
       "      <td>Så er det ordføreren.</td>\n",
       "    </tr>\n",
       "  </tbody>\n",
       "</table>\n",
       "</div>"
      ],
      "text/plain": [
       "                      Date Meeting Number Agenda Number  \\\n",
       "31608  2010-04-19T10:00:00       77. møde             5   \n",
       "38939  2010-06-10T10:00:00      105. møde             4   \n",
       "\n",
       "                                                                                                                                                                                                        Speech  \n",
       "31608  Tak for det. Hr. Jesper Langballe har jo sådan set redegjort for en del af den meget alvorlige problemstilling, som vi står over for, og vi har jo også før i Folketingssalen haft diskussioner. I f...  \n",
       "38939                                                                                                                                                                                    Så er det ordføreren.  "
      ]
     },
     "execution_count": 3,
     "metadata": {},
     "output_type": "execute_result"
    }
   ],
   "source": [
    "df = df[['Date', 'Meeting Number', 'Agenda Number', 'Speech']]\n",
    "df = df.dropna()\n",
    "df.sample(2)"
   ]
  },
  {
   "cell_type": "code",
   "execution_count": 4,
   "metadata": {},
   "outputs": [
    {
     "data": {
      "text/html": [
       "<div>\n",
       "<style scoped>\n",
       "    .dataframe tbody tr th:only-of-type {\n",
       "        vertical-align: middle;\n",
       "    }\n",
       "\n",
       "    .dataframe tbody tr th {\n",
       "        vertical-align: top;\n",
       "    }\n",
       "\n",
       "    .dataframe thead th {\n",
       "        text-align: right;\n",
       "    }\n",
       "</style>\n",
       "<table border=\"1\" class=\"dataframe\">\n",
       "  <thead>\n",
       "    <tr style=\"text-align: right;\">\n",
       "      <th></th>\n",
       "      <th>Date</th>\n",
       "      <th>Meeting Number</th>\n",
       "      <th>Agenda Number</th>\n",
       "      <th>Speech</th>\n",
       "    </tr>\n",
       "  </thead>\n",
       "  <tbody>\n",
       "    <tr>\n",
       "      <th>434</th>\n",
       "      <td>2009-12-17T10:00:00</td>\n",
       "      <td>34. møde</td>\n",
       "      <td>13</td>\n",
       "      <td>Der er ikke stillet ændringsforslag.Der er ingen, der beder om ordet, og så går vi til afstemning.,,Der kan stemmes … (munterhed). Ja, ja, det, der bliver misforstået, er, at man i beslutningsfors...</td>\n",
       "    </tr>\n",
       "    <tr>\n",
       "      <th>1786</th>\n",
       "      <td>2010-10-26T13:00:00</td>\n",
       "      <td>7. møde</td>\n",
       "      <td>4</td>\n",
       "      <td>Forhandlingen er åbnet. Hr. Karsten Nonbo som ordfører for Venstre.,,Det lovforslag, vi skal behandle nu, har to elementer. Det første element er en udvidelse af strafferammen for groft uagtsomt h...</td>\n",
       "    </tr>\n",
       "  </tbody>\n",
       "</table>\n",
       "</div>"
      ],
      "text/plain": [
       "                     Date Meeting Number Agenda Number  \\\n",
       "434   2009-12-17T10:00:00       34. møde            13   \n",
       "1786  2010-10-26T13:00:00        7. møde             4   \n",
       "\n",
       "                                                                                                                                                                                                       Speech  \n",
       "434   Der er ikke stillet ændringsforslag.Der er ingen, der beder om ordet, og så går vi til afstemning.,,Der kan stemmes … (munterhed). Ja, ja, det, der bliver misforstået, er, at man i beslutningsfors...  \n",
       "1786  Forhandlingen er åbnet. Hr. Karsten Nonbo som ordfører for Venstre.,,Det lovforslag, vi skal behandle nu, har to elementer. Det første element er en udvidelse af strafferammen for groft uagtsomt h...  "
      ]
     },
     "execution_count": 4,
     "metadata": {},
     "output_type": "execute_result"
    }
   ],
   "source": [
    "df_aggregated = df.groupby(by =['Date', 'Meeting Number', 'Agenda Number'])['Speech'].apply(lambda x: ',,'.join(x)) \\\n",
    "                  .reset_index()\n",
    "df_aggregated.sample(2)"
   ]
  },
  {
   "cell_type": "code",
   "execution_count": 5,
   "metadata": {},
   "outputs": [],
   "source": [
    "#### TOKENIZATION AND STEMMING\n",
    "import nltk\n",
    "from nltk.stem.snowball import DanishStemmer\n",
    "\n",
    "stopwords = nltk.corpus.stopwords.words('danish') \n",
    "tokenizer = nltk.RegexpTokenizer(r\"\\w+\")\n",
    "stemmer = DanishStemmer()"
   ]
  },
  {
   "cell_type": "code",
   "execution_count": 6,
   "metadata": {},
   "outputs": [],
   "source": [
    "# tokenize the string and remove all punktuations\n",
    "df_aggregated['Unstemmed'] = df_aggregated['Speech'].apply(lambda x: tokenizer.tokenize(x)) "
   ]
  },
  {
   "cell_type": "code",
   "execution_count": 7,
   "metadata": {},
   "outputs": [
    {
     "data": {
      "text/html": [
       "<div>\n",
       "<style scoped>\n",
       "    .dataframe tbody tr th:only-of-type {\n",
       "        vertical-align: middle;\n",
       "    }\n",
       "\n",
       "    .dataframe tbody tr th {\n",
       "        vertical-align: top;\n",
       "    }\n",
       "\n",
       "    .dataframe thead th {\n",
       "        text-align: right;\n",
       "    }\n",
       "</style>\n",
       "<table border=\"1\" class=\"dataframe\">\n",
       "  <thead>\n",
       "    <tr style=\"text-align: right;\">\n",
       "      <th></th>\n",
       "      <th>Date</th>\n",
       "      <th>Meeting Number</th>\n",
       "      <th>Agenda Number</th>\n",
       "      <th>Speech</th>\n",
       "      <th>Unstemmed</th>\n",
       "    </tr>\n",
       "  </thead>\n",
       "  <tbody>\n",
       "    <tr>\n",
       "      <th>10154</th>\n",
       "      <td>2016-11-11T10:00:00</td>\n",
       "      <td>15. møde</td>\n",
       "      <td>0</td>\n",
       "      <td>Mødet er åbnet.I dag er der følgende anmeldelser:Forsvarsministeren (Peter Christensen):Lovforslag nr. L 80 (Forslag til lov om jobordning for veteraner).Udenrigsministeren (Kristian Jensen):Lovfo...</td>\n",
       "      <td>[Mødet, er, åbnet, I, dag, er, der, følgende, anmeldelser, Forsvarsministeren, Peter, Christensen, Lovforslag, nr, L, 80, Forslag, til, lov, om, jobordning, for, veteraner, Udenrigsministeren, Kri...</td>\n",
       "    </tr>\n",
       "    <tr>\n",
       "      <th>2030</th>\n",
       "      <td>2010-12-01T13:00:00</td>\n",
       "      <td>27. møde</td>\n",
       "      <td>8</td>\n",
       "      <td>Hr. Karl H. Bornhøft.,,Tak. Spørgsmålet lyder: Hvor længe har ministeren tænkt sig at lade den situation fortsætte, hvor manglende adgang til upublicerede data fra lægemiddelforsøg betyder, at læg...</td>\n",
       "      <td>[Hr, Karl, H, Bornhøft, Tak, Spørgsmålet, lyder, Hvor, længe, har, ministeren, tænkt, sig, at, lade, den, situation, fortsætte, hvor, manglende, adgang, til, upublicerede, data, fra, lægemiddelfor...</td>\n",
       "    </tr>\n",
       "    <tr>\n",
       "      <th>5679</th>\n",
       "      <td>2013-05-07T13:00:00</td>\n",
       "      <td>93. møde</td>\n",
       "      <td>6</td>\n",
       "      <td>Der er ikke stillet ændringsforslag. Ønsker nogen at udtale sig?Det er ikke tilfældet. Vi går til afstemning.,,Der stemmes om lovforslagets endelige vedtagelse nu.Jeg slutter afstemningen.Lovforsl...</td>\n",
       "      <td>[Der, er, ikke, stillet, ændringsforslag, Ønsker, nogen, at, udtale, sig, Det, er, ikke, tilfældet, Vi, går, til, afstemning, Der, stemmes, om, lovforslagets, endelige, vedtagelse, nu, Jeg, slutte...</td>\n",
       "    </tr>\n",
       "  </tbody>\n",
       "</table>\n",
       "</div>"
      ],
      "text/plain": [
       "                      Date Meeting Number Agenda Number  \\\n",
       "10154  2016-11-11T10:00:00       15. møde             0   \n",
       "2030   2010-12-01T13:00:00       27. møde             8   \n",
       "5679   2013-05-07T13:00:00       93. møde             6   \n",
       "\n",
       "                                                                                                                                                                                                        Speech  \\\n",
       "10154  Mødet er åbnet.I dag er der følgende anmeldelser:Forsvarsministeren (Peter Christensen):Lovforslag nr. L 80 (Forslag til lov om jobordning for veteraner).Udenrigsministeren (Kristian Jensen):Lovfo...   \n",
       "2030   Hr. Karl H. Bornhøft.,,Tak. Spørgsmålet lyder: Hvor længe har ministeren tænkt sig at lade den situation fortsætte, hvor manglende adgang til upublicerede data fra lægemiddelforsøg betyder, at læg...   \n",
       "5679   Der er ikke stillet ændringsforslag. Ønsker nogen at udtale sig?Det er ikke tilfældet. Vi går til afstemning.,,Der stemmes om lovforslagets endelige vedtagelse nu.Jeg slutter afstemningen.Lovforsl...   \n",
       "\n",
       "                                                                                                                                                                                                     Unstemmed  \n",
       "10154  [Mødet, er, åbnet, I, dag, er, der, følgende, anmeldelser, Forsvarsministeren, Peter, Christensen, Lovforslag, nr, L, 80, Forslag, til, lov, om, jobordning, for, veteraner, Udenrigsministeren, Kri...  \n",
       "2030   [Hr, Karl, H, Bornhøft, Tak, Spørgsmålet, lyder, Hvor, længe, har, ministeren, tænkt, sig, at, lade, den, situation, fortsætte, hvor, manglende, adgang, til, upublicerede, data, fra, lægemiddelfor...  \n",
       "5679   [Der, er, ikke, stillet, ændringsforslag, Ønsker, nogen, at, udtale, sig, Det, er, ikke, tilfældet, Vi, går, til, afstemning, Der, stemmes, om, lovforslagets, endelige, vedtagelse, nu, Jeg, slutte...  "
      ]
     },
     "execution_count": 7,
     "metadata": {},
     "output_type": "execute_result"
    }
   ],
   "source": [
    "df_aggregated.sample(3)"
   ]
  },
  {
   "cell_type": "code",
   "execution_count": 8,
   "metadata": {},
   "outputs": [],
   "source": [
    "### stem the tokens\n",
    "df_aggregated['Stemmed'] = df_aggregated['Unstemmed'].apply(lambda x: [stemmer.stem(y) for y in x if y.isalnum()])"
   ]
  },
  {
   "cell_type": "code",
   "execution_count": 9,
   "metadata": {},
   "outputs": [],
   "source": [
    "## remove stop words and numbers\n",
    "df_aggregated['Clean'] = df_aggregated['Stemmed'].apply(lambda x: [y for y in x if not y.isnumeric() and not y in stopwords])"
   ]
  },
  {
   "cell_type": "code",
   "execution_count": 10,
   "metadata": {},
   "outputs": [
    {
     "data": {
      "text/html": [
       "<div>\n",
       "<style scoped>\n",
       "    .dataframe tbody tr th:only-of-type {\n",
       "        vertical-align: middle;\n",
       "    }\n",
       "\n",
       "    .dataframe tbody tr th {\n",
       "        vertical-align: top;\n",
       "    }\n",
       "\n",
       "    .dataframe thead th {\n",
       "        text-align: right;\n",
       "    }\n",
       "</style>\n",
       "<table border=\"1\" class=\"dataframe\">\n",
       "  <thead>\n",
       "    <tr style=\"text-align: right;\">\n",
       "      <th></th>\n",
       "      <th>Date</th>\n",
       "      <th>Meeting Number</th>\n",
       "      <th>Agenda Number</th>\n",
       "      <th>Speech</th>\n",
       "      <th>Unstemmed</th>\n",
       "      <th>Stemmed</th>\n",
       "      <th>Clean</th>\n",
       "    </tr>\n",
       "  </thead>\n",
       "  <tbody>\n",
       "    <tr>\n",
       "      <th>5136</th>\n",
       "      <td>2013-01-16T13:00:00</td>\n",
       "      <td>45. møde</td>\n",
       "      <td>3</td>\n",
       "      <td>Jeg skal bare lige gentage, fordi nye folk kommer ind i salen, at vi har afskaffet oplæsning af spørgsmålene. Vi går direkte til besvarelse fra ministeren. Når den primære spørger har haft de to f...</td>\n",
       "      <td>[Jeg, skal, bare, lige, gentage, fordi, nye, folk, kommer, ind, i, salen, at, vi, har, afskaffet, oplæsning, af, spørgsmålene, Vi, går, direkte, til, besvarelse, fra, ministeren, Når, den, primære...</td>\n",
       "      <td>[jeg, skal, bar, lig, gentag, fordi, nye, folk, kom, ind, i, sal, at, vi, har, afskaf, oplæsning, af, spørgsmål, vi, går, direk, til, besvar, fra, minist, når, den, primær, spørg, har, haft, de, t...</td>\n",
       "      <td>[bar, lig, gentag, fordi, nye, folk, kom, sal, afskaf, oplæsning, spørgsmål, går, direk, besvar, minist, primær, spørg, haft, to, først, rund, kom, medspørg, to, rund, a, minut, tak, formand, spør...</td>\n",
       "    </tr>\n",
       "    <tr>\n",
       "      <th>332</th>\n",
       "      <td>2009-12-08T13:00:00</td>\n",
       "      <td>28. møde</td>\n",
       "      <td>4</td>\n",
       "      <td>Der er ikke stillet ændringsforslag.Der er ingen, der beder om ordet. Så går vi til afstemning.,,Der stemmes om lovforslagets endelige vedtagelse, og der kan stemmes.Afstemningen slutter.For stemt...</td>\n",
       "      <td>[Der, er, ikke, stillet, ændringsforslag, Der, er, ingen, der, beder, om, ordet, Så, går, vi, til, afstemning, Der, stemmes, om, lovforslagets, endelige, vedtagelse, og, der, kan, stemmes, Afstemn...</td>\n",
       "      <td>[der, er, ikk, stil, ændringsforslag, der, er, ing, der, bed, om, ord, så, går, vi, til, afstemning, der, stem, om, lovforslag, end, vedtag, og, der, kan, stem, afstemning, slut, for, stemt, 114, ...</td>\n",
       "      <td>[ikk, stil, ændringsforslag, ing, bed, ord, så, går, afstemning, stem, lovforslag, vedtag, kan, stem, afstemning, slut, stemt, v, s, df, sf, kf, rv, el, la, imod, stemt, hverk, ell, imod, stemt, l...</td>\n",
       "    </tr>\n",
       "  </tbody>\n",
       "</table>\n",
       "</div>"
      ],
      "text/plain": [
       "                     Date Meeting Number Agenda Number  \\\n",
       "5136  2013-01-16T13:00:00       45. møde             3   \n",
       "332   2009-12-08T13:00:00       28. møde             4   \n",
       "\n",
       "                                                                                                                                                                                                       Speech  \\\n",
       "5136  Jeg skal bare lige gentage, fordi nye folk kommer ind i salen, at vi har afskaffet oplæsning af spørgsmålene. Vi går direkte til besvarelse fra ministeren. Når den primære spørger har haft de to f...   \n",
       "332   Der er ikke stillet ændringsforslag.Der er ingen, der beder om ordet. Så går vi til afstemning.,,Der stemmes om lovforslagets endelige vedtagelse, og der kan stemmes.Afstemningen slutter.For stemt...   \n",
       "\n",
       "                                                                                                                                                                                                    Unstemmed  \\\n",
       "5136  [Jeg, skal, bare, lige, gentage, fordi, nye, folk, kommer, ind, i, salen, at, vi, har, afskaffet, oplæsning, af, spørgsmålene, Vi, går, direkte, til, besvarelse, fra, ministeren, Når, den, primære...   \n",
       "332   [Der, er, ikke, stillet, ændringsforslag, Der, er, ingen, der, beder, om, ordet, Så, går, vi, til, afstemning, Der, stemmes, om, lovforslagets, endelige, vedtagelse, og, der, kan, stemmes, Afstemn...   \n",
       "\n",
       "                                                                                                                                                                                                      Stemmed  \\\n",
       "5136  [jeg, skal, bar, lig, gentag, fordi, nye, folk, kom, ind, i, sal, at, vi, har, afskaf, oplæsning, af, spørgsmål, vi, går, direk, til, besvar, fra, minist, når, den, primær, spørg, har, haft, de, t...   \n",
       "332   [der, er, ikk, stil, ændringsforslag, der, er, ing, der, bed, om, ord, så, går, vi, til, afstemning, der, stem, om, lovforslag, end, vedtag, og, der, kan, stem, afstemning, slut, for, stemt, 114, ...   \n",
       "\n",
       "                                                                                                                                                                                                        Clean  \n",
       "5136  [bar, lig, gentag, fordi, nye, folk, kom, sal, afskaf, oplæsning, spørgsmål, går, direk, besvar, minist, primær, spørg, haft, to, først, rund, kom, medspørg, to, rund, a, minut, tak, formand, spør...  \n",
       "332   [ikk, stil, ændringsforslag, ing, bed, ord, så, går, afstemning, stem, lovforslag, vedtag, kan, stem, afstemning, slut, stemt, v, s, df, sf, kf, rv, el, la, imod, stemt, hverk, ell, imod, stemt, l...  "
      ]
     },
     "execution_count": 10,
     "metadata": {},
     "output_type": "execute_result"
    }
   ],
   "source": [
    "### data aggregated\n",
    "df_aggregated.to_pickle('FT-data-DSpace/data_agreggated_with_agendas.pickle')\n",
    "df_aggregated.sample(2)"
   ]
  },
  {
   "cell_type": "code",
   "execution_count": null,
   "metadata": {},
   "outputs": [],
   "source": []
  }
 ],
 "metadata": {
  "kernelspec": {
   "display_name": "Python 3",
   "language": "python",
   "name": "python3"
  },
  "language_info": {
   "codemirror_mode": {
    "name": "ipython",
    "version": 3
   },
   "file_extension": ".py",
   "mimetype": "text/x-python",
   "name": "python",
   "nbconvert_exporter": "python",
   "pygments_lexer": "ipython3",
   "version": "3.7.6"
  }
 },
 "nbformat": 4,
 "nbformat_minor": 4
}
