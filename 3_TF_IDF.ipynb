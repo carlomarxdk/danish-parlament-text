{
 "cells": [
  {
   "cell_type": "code",
   "execution_count": 4,
   "metadata": {},
   "outputs": [],
   "source": [
    "import pandas as pd\n",
    "import numpy as np\n",
    "from sklearn.feature_extraction.text import TfidfVectorizer"
   ]
  },
  {
   "cell_type": "code",
   "execution_count": 5,
   "metadata": {},
   "outputs": [],
   "source": [
    "df = pd.read_pickle('FT-data-DSpace/data_agreggated.pickle')\n",
    "df = df[['Date', 'Meeting Number', 'Clean']]"
   ]
  },
  {
   "cell_type": "code",
   "execution_count": 6,
   "metadata": {},
   "outputs": [
    {
     "data": {
      "text/html": [
       "<div>\n",
       "<style scoped>\n",
       "    .dataframe tbody tr th:only-of-type {\n",
       "        vertical-align: middle;\n",
       "    }\n",
       "\n",
       "    .dataframe tbody tr th {\n",
       "        vertical-align: top;\n",
       "    }\n",
       "\n",
       "    .dataframe thead th {\n",
       "        text-align: right;\n",
       "    }\n",
       "</style>\n",
       "<table border=\"1\" class=\"dataframe\">\n",
       "  <thead>\n",
       "    <tr style=\"text-align: right;\">\n",
       "      <th></th>\n",
       "      <th>Date</th>\n",
       "      <th>Meeting Number</th>\n",
       "      <th>Clean</th>\n",
       "      <th>Sentences</th>\n",
       "    </tr>\n",
       "  </thead>\n",
       "  <tbody>\n",
       "    <tr>\n",
       "      <th>486</th>\n",
       "      <td>2014-02-06T10:00:00</td>\n",
       "      <td>51. møde</td>\n",
       "      <td>[mød, åbn, dag, torsdag, februar, meddel, følg...</td>\n",
       "      <td>mød åbn dag torsdag februar meddel følg anmeld...</td>\n",
       "    </tr>\n",
       "    <tr>\n",
       "      <th>798</th>\n",
       "      <td>2016-12-16T10:00:00</td>\n",
       "      <td>38. møde</td>\n",
       "      <td>[mød, åbn, dag, følg, anmeld, kirst, norman, a...</td>\n",
       "      <td>mød åbn dag følg anmeld kirst norman anders sf...</td>\n",
       "    </tr>\n",
       "  </tbody>\n",
       "</table>\n",
       "</div>"
      ],
      "text/plain": [
       "                    Date Meeting Number  \\\n",
       "486  2014-02-06T10:00:00       51. møde   \n",
       "798  2016-12-16T10:00:00       38. møde   \n",
       "\n",
       "                                                 Clean  \\\n",
       "486  [mød, åbn, dag, torsdag, februar, meddel, følg...   \n",
       "798  [mød, åbn, dag, følg, anmeld, kirst, norman, a...   \n",
       "\n",
       "                                             Sentences  \n",
       "486  mød åbn dag torsdag februar meddel følg anmeld...  \n",
       "798  mød åbn dag følg anmeld kirst norman anders sf...  "
      ]
     },
     "execution_count": 6,
     "metadata": {},
     "output_type": "execute_result"
    }
   ],
   "source": [
    "df['Sentences'] = df['Clean'].apply(lambda x: ' '.join(x))\n",
    "df.sample(2)"
   ]
  },
  {
   "cell_type": "code",
   "execution_count": 17,
   "metadata": {},
   "outputs": [],
   "source": [
    "tvec = TfidfVectorizer(min_df=.01, max_df=.1)\n",
    "x = tvec.fit_transform(df['Sentences'])"
   ]
  },
  {
   "cell_type": "code",
   "execution_count": null,
   "metadata": {},
   "outputs": [],
   "source": [
    "x[0].toarray()"
   ]
  },
  {
   "cell_type": "code",
   "execution_count": 18,
   "metadata": {},
   "outputs": [
    {
     "data": {
      "text/plain": [
       "16449"
      ]
     },
     "execution_count": 18,
     "metadata": {},
     "output_type": "execute_result"
    }
   ],
   "source": [
    "len(tvec.get_feature_names())"
   ]
  },
  {
   "cell_type": "code",
   "execution_count": null,
   "metadata": {},
   "outputs": [],
   "source": []
  }
 ],
 "metadata": {
  "kernelspec": {
   "display_name": "Python 3",
   "language": "python",
   "name": "python3"
  },
  "language_info": {
   "codemirror_mode": {
    "name": "ipython",
    "version": 3
   },
   "file_extension": ".py",
   "mimetype": "text/x-python",
   "name": "python",
   "nbconvert_exporter": "python",
   "pygments_lexer": "ipython3",
   "version": "3.7.6"
  }
 },
 "nbformat": 4,
 "nbformat_minor": 4
}
