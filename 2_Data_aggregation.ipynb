{
 "cells": [
  {
   "cell_type": "code",
   "execution_count": 1,
   "metadata": {},
   "outputs": [],
   "source": [
    "import pandas as pd\n",
    "pd.set_option('display.max_colwidth', 200)"
   ]
  },
  {
   "cell_type": "code",
   "execution_count": 2,
   "metadata": {},
   "outputs": [
    {
     "data": {
      "text/html": [
       "<div>\n",
       "<style scoped>\n",
       "    .dataframe tbody tr th:only-of-type {\n",
       "        vertical-align: middle;\n",
       "    }\n",
       "\n",
       "    .dataframe tbody tr th {\n",
       "        vertical-align: top;\n",
       "    }\n",
       "\n",
       "    .dataframe thead th {\n",
       "        text-align: right;\n",
       "    }\n",
       "</style>\n",
       "<table border=\"1\" class=\"dataframe\">\n",
       "  <thead>\n",
       "    <tr style=\"text-align: right;\">\n",
       "      <th></th>\n",
       "      <th>ID</th>\n",
       "      <th>Date</th>\n",
       "      <th>Meeting Number</th>\n",
       "      <th>Agenda Name</th>\n",
       "      <th>Agenda Number</th>\n",
       "      <th>File Type</th>\n",
       "      <th>File Number</th>\n",
       "      <th>File Step</th>\n",
       "      <th>Speaker Name</th>\n",
       "      <th>Speaker Role</th>\n",
       "      <th>Speaker Start</th>\n",
       "      <th>Speaker End</th>\n",
       "      <th>Speech</th>\n",
       "    </tr>\n",
       "  </thead>\n",
       "  <tbody>\n",
       "    <tr>\n",
       "      <th>0</th>\n",
       "      <td>CBAEA326-B201-41AB-A756-029BA1F58D82</td>\n",
       "      <td>2009-10-30T10:00:00</td>\n",
       "      <td>9. møde</td>\n",
       "      <td>[None]</td>\n",
       "      <td>0</td>\n",
       "      <td>Formandens meddelelser</td>\n",
       "      <td></td>\n",
       "      <td></td>\n",
       "      <td>None</td>\n",
       "      <td>formand</td>\n",
       "      <td>2009-10-30T10:00:18.063</td>\n",
       "      <td>2009-10-30T10:01:04.997</td>\n",
       "      <td>Mødet er åbnet.I dag er der følgende anmeldelser: Thor Pedersen (V), Mogens Lykketoft (S), Søren Espersen (DF), Holger K. Nielsen (SF) og Helge Adam Møller (KF):Lovforslag nr. L 53 (Forslag til lo...</td>\n",
       "    </tr>\n",
       "  </tbody>\n",
       "</table>\n",
       "</div>"
      ],
      "text/plain": [
       "                                     ID                 Date Meeting Number  \\\n",
       "0  CBAEA326-B201-41AB-A756-029BA1F58D82  2009-10-30T10:00:00        9. møde   \n",
       "\n",
       "  Agenda Name Agenda Number               File Type File Number File Step  \\\n",
       "0      [None]             0  Formandens meddelelser                         \n",
       "\n",
       "  Speaker Name Speaker Role            Speaker Start              Speaker End  \\\n",
       "0         None      formand  2009-10-30T10:00:18.063  2009-10-30T10:01:04.997   \n",
       "\n",
       "                                                                                                                                                                                                    Speech  \n",
       "0  Mødet er åbnet.I dag er der følgende anmeldelser: Thor Pedersen (V), Mogens Lykketoft (S), Søren Espersen (DF), Holger K. Nielsen (SF) og Helge Adam Møller (KF):Lovforslag nr. L 53 (Forslag til lo...  "
      ]
     },
     "execution_count": 2,
     "metadata": {},
     "output_type": "execute_result"
    }
   ],
   "source": [
    "df = pd.read_pickle('FT-data-DSpace/data_processed.pickle')\n",
    "df.head(1)"
   ]
  },
  {
   "cell_type": "code",
   "execution_count": 3,
   "metadata": {},
   "outputs": [
    {
     "data": {
      "text/html": [
       "<div>\n",
       "<style scoped>\n",
       "    .dataframe tbody tr th:only-of-type {\n",
       "        vertical-align: middle;\n",
       "    }\n",
       "\n",
       "    .dataframe tbody tr th {\n",
       "        vertical-align: top;\n",
       "    }\n",
       "\n",
       "    .dataframe thead th {\n",
       "        text-align: right;\n",
       "    }\n",
       "</style>\n",
       "<table border=\"1\" class=\"dataframe\">\n",
       "  <thead>\n",
       "    <tr style=\"text-align: right;\">\n",
       "      <th></th>\n",
       "      <th>Date</th>\n",
       "      <th>Meeting Number</th>\n",
       "      <th>Speech</th>\n",
       "    </tr>\n",
       "  </thead>\n",
       "  <tbody>\n",
       "    <tr>\n",
       "      <th>129697</th>\n",
       "      <td>2012-08-20T13:00:00</td>\n",
       "      <td>99. møde</td>\n",
       "      <td>Jeg har i dag hørt Liberal Alliance tale om, at man skulle lade være med at ansætte 8.000 offentligt ansatte. Jeg er af den opfattelse, at det er et dumt forslag. Et stykke arbejde i den offentlig...</td>\n",
       "    </tr>\n",
       "    <tr>\n",
       "      <th>291418</th>\n",
       "      <td>2015-11-04T13:00:00</td>\n",
       "      <td>11. møde</td>\n",
       "      <td>Tak for det. Jeg kan egentlig svare ret kort: Regeringen prioriterer ældreområdet massivt, men det er velkendt, at vi ikke er varme tilhængere af minimumsrettigheder i ældreplejen, så min holdning...</td>\n",
       "    </tr>\n",
       "  </tbody>\n",
       "</table>\n",
       "</div>"
      ],
      "text/plain": [
       "                       Date Meeting Number  \\\n",
       "129697  2012-08-20T13:00:00       99. møde   \n",
       "291418  2015-11-04T13:00:00       11. møde   \n",
       "\n",
       "                                                                                                                                                                                                         Speech  \n",
       "129697  Jeg har i dag hørt Liberal Alliance tale om, at man skulle lade være med at ansætte 8.000 offentligt ansatte. Jeg er af den opfattelse, at det er et dumt forslag. Et stykke arbejde i den offentlig...  \n",
       "291418  Tak for det. Jeg kan egentlig svare ret kort: Regeringen prioriterer ældreområdet massivt, men det er velkendt, at vi ikke er varme tilhængere af minimumsrettigheder i ældreplejen, så min holdning...  "
      ]
     },
     "execution_count": 3,
     "metadata": {},
     "output_type": "execute_result"
    }
   ],
   "source": [
    "df = df[['Date', 'Meeting Number', 'Speech']]\n",
    "df = df.dropna()\n",
    "df.sample(2)"
   ]
  },
  {
   "cell_type": "code",
   "execution_count": 15,
   "metadata": {},
   "outputs": [
    {
     "data": {
      "text/html": [
       "<div>\n",
       "<style scoped>\n",
       "    .dataframe tbody tr th:only-of-type {\n",
       "        vertical-align: middle;\n",
       "    }\n",
       "\n",
       "    .dataframe tbody tr th {\n",
       "        vertical-align: top;\n",
       "    }\n",
       "\n",
       "    .dataframe thead th {\n",
       "        text-align: right;\n",
       "    }\n",
       "</style>\n",
       "<table border=\"1\" class=\"dataframe\">\n",
       "  <thead>\n",
       "    <tr style=\"text-align: right;\">\n",
       "      <th></th>\n",
       "      <th>Date</th>\n",
       "      <th>Meeting Number</th>\n",
       "      <th>Speech</th>\n",
       "    </tr>\n",
       "  </thead>\n",
       "  <tbody>\n",
       "    <tr>\n",
       "      <th>553</th>\n",
       "      <td>2014-10-30T10:00:00</td>\n",
       "      <td>9. møde</td>\n",
       "      <td>Mødet er åbnet.I dag er der følgende anmeldelser:Klima-, energi- og bygningsministeren (Rasmus Helveg Petersen):Lovforslag nr. L 11 (Forslag til lov om ændring af lov om CO2-kvoter og lov om kuldi...</td>\n",
       "    </tr>\n",
       "    <tr>\n",
       "      <th>372</th>\n",
       "      <td>2013-01-29T13:00:00</td>\n",
       "      <td>52. møde</td>\n",
       "      <td>Mødet er åbnet.Der er i dag følgende anmeldelse:Jørgen Arbo-Bæhr (EL) m.fl.:Beslutningsforslag nr. B 55 (Forslag til folketingsbeslutning om at efterlønsbidrag og fleksydelsesbidrag udbetalt på gu...</td>\n",
       "    </tr>\n",
       "  </tbody>\n",
       "</table>\n",
       "</div>"
      ],
      "text/plain": [
       "                    Date Meeting Number  \\\n",
       "553  2014-10-30T10:00:00        9. møde   \n",
       "372  2013-01-29T13:00:00       52. møde   \n",
       "\n",
       "                                                                                                                                                                                                      Speech  \n",
       "553  Mødet er åbnet.I dag er der følgende anmeldelser:Klima-, energi- og bygningsministeren (Rasmus Helveg Petersen):Lovforslag nr. L 11 (Forslag til lov om ændring af lov om CO2-kvoter og lov om kuldi...  \n",
       "372  Mødet er åbnet.Der er i dag følgende anmeldelse:Jørgen Arbo-Bæhr (EL) m.fl.:Beslutningsforslag nr. B 55 (Forslag til folketingsbeslutning om at efterlønsbidrag og fleksydelsesbidrag udbetalt på gu...  "
      ]
     },
     "execution_count": 15,
     "metadata": {},
     "output_type": "execute_result"
    }
   ],
   "source": [
    "df_aggregated = df.groupby(by =['Date', 'Meeting Number'])['Speech'].apply(lambda x: ',,'.join(x)) \\\n",
    "                  .reset_index()\n",
    "df_aggregated.sample(2)"
   ]
  },
  {
   "cell_type": "code",
   "execution_count": 16,
   "metadata": {},
   "outputs": [],
   "source": [
    "#### TOKENIZATION AND STEMMING\n",
    "import nltk\n",
    "from nltk.stem.snowball import DanishStemmer\n",
    "\n",
    "stopwords = nltk.corpus.stopwords.words('danish') \n",
    "tokenizer = nltk.RegexpTokenizer(r\"\\w+\")\n",
    "stemmer = DanishStemmer()"
   ]
  },
  {
   "cell_type": "code",
   "execution_count": 17,
   "metadata": {},
   "outputs": [],
   "source": [
    "# tokenize the string and remove all punktuations\n",
    "df_aggregated['Unstemmed'] = df_aggregated['Speech'].apply(lambda x: tokenizer.tokenize(x)) "
   ]
  },
  {
   "cell_type": "code",
   "execution_count": 18,
   "metadata": {},
   "outputs": [
    {
     "data": {
      "text/html": [
       "<div>\n",
       "<style scoped>\n",
       "    .dataframe tbody tr th:only-of-type {\n",
       "        vertical-align: middle;\n",
       "    }\n",
       "\n",
       "    .dataframe tbody tr th {\n",
       "        vertical-align: top;\n",
       "    }\n",
       "\n",
       "    .dataframe thead th {\n",
       "        text-align: right;\n",
       "    }\n",
       "</style>\n",
       "<table border=\"1\" class=\"dataframe\">\n",
       "  <thead>\n",
       "    <tr style=\"text-align: right;\">\n",
       "      <th></th>\n",
       "      <th>Date</th>\n",
       "      <th>Meeting Number</th>\n",
       "      <th>Speech</th>\n",
       "      <th>Unstemmed</th>\n",
       "    </tr>\n",
       "  </thead>\n",
       "  <tbody>\n",
       "    <tr>\n",
       "      <th>787</th>\n",
       "      <td>2016-12-02T10:00:00</td>\n",
       "      <td>27. møde</td>\n",
       "      <td>Mødet er åbnet, men jeg er måske nødt til at udsætte det.Kommer der en minister nu? Ja.Så starter jeg med at sige, at der i dag er følgende anmeldelser:Henrik Sass Larsen (S), Søren Gade (V), Leif...</td>\n",
       "      <td>[Mødet, er, åbnet, men, jeg, er, måske, nødt, til, at, udsætte, det, Kommer, der, en, minister, nu, Ja, Så, starter, jeg, med, at, sige, at, der, i, dag, er, følgende, anmeldelser, Henrik, Sass, L...</td>\n",
       "    </tr>\n",
       "    <tr>\n",
       "      <th>255</th>\n",
       "      <td>2012-01-20T10:00:00</td>\n",
       "      <td>37. møde</td>\n",
       "      <td>Mødet er åbnet.Jeg håber, at alle medlemmerne har hørt udråbningen gamle dages vægtere 'udråbte' tiden;-), da vi stadig væk har problemer med ringesystemet.I dag er der følgende anmeldelse:Christi...</td>\n",
       "      <td>[Mødet, er, åbnet, Jeg, håber, at, alle, medlemmerne, har, hørt, udråbningen, gamle, dages, vægtere, udråbte, tiden, da, vi, stadig, væk, har, problemer, med, ringesystemet, I, dag, er, der, følge...</td>\n",
       "    </tr>\n",
       "    <tr>\n",
       "      <th>639</th>\n",
       "      <td>2015-05-21T10:00:00</td>\n",
       "      <td>95. møde</td>\n",
       "      <td>Mødet er åbnet.Medlemmer af Folketinget Jan E. Jørgensen (V), Dennis Flydtkjær (DF) og Brian Mikkelsen (KF) m.fl. har meddelt mig, at de ønsker at tage følgende forespørgsel tilbage:Hvad kan minis...</td>\n",
       "      <td>[Mødet, er, åbnet, Medlemmer, af, Folketinget, Jan, E, Jørgensen, V, Dennis, Flydtkjær, DF, og, Brian, Mikkelsen, KF, m, fl, har, meddelt, mig, at, de, ønsker, at, tage, følgende, forespørgsel, ti...</td>\n",
       "    </tr>\n",
       "  </tbody>\n",
       "</table>\n",
       "</div>"
      ],
      "text/plain": [
       "                    Date Meeting Number  \\\n",
       "787  2016-12-02T10:00:00       27. møde   \n",
       "255  2012-01-20T10:00:00       37. møde   \n",
       "639  2015-05-21T10:00:00       95. møde   \n",
       "\n",
       "                                                                                                                                                                                                      Speech  \\\n",
       "787  Mødet er åbnet, men jeg er måske nødt til at udsætte det.Kommer der en minister nu? Ja.Så starter jeg med at sige, at der i dag er følgende anmeldelser:Henrik Sass Larsen (S), Søren Gade (V), Leif...   \n",
       "255  Mødet er åbnet.Jeg håber, at alle medlemmerne har hørt udråbningen gamle dages vægtere 'udråbte' tiden;-), da vi stadig væk har problemer med ringesystemet.I dag er der følgende anmeldelse:Christi...   \n",
       "639  Mødet er åbnet.Medlemmer af Folketinget Jan E. Jørgensen (V), Dennis Flydtkjær (DF) og Brian Mikkelsen (KF) m.fl. har meddelt mig, at de ønsker at tage følgende forespørgsel tilbage:Hvad kan minis...   \n",
       "\n",
       "                                                                                                                                                                                                   Unstemmed  \n",
       "787  [Mødet, er, åbnet, men, jeg, er, måske, nødt, til, at, udsætte, det, Kommer, der, en, minister, nu, Ja, Så, starter, jeg, med, at, sige, at, der, i, dag, er, følgende, anmeldelser, Henrik, Sass, L...  \n",
       "255  [Mødet, er, åbnet, Jeg, håber, at, alle, medlemmerne, har, hørt, udråbningen, gamle, dages, vægtere, udråbte, tiden, da, vi, stadig, væk, har, problemer, med, ringesystemet, I, dag, er, der, følge...  \n",
       "639  [Mødet, er, åbnet, Medlemmer, af, Folketinget, Jan, E, Jørgensen, V, Dennis, Flydtkjær, DF, og, Brian, Mikkelsen, KF, m, fl, har, meddelt, mig, at, de, ønsker, at, tage, følgende, forespørgsel, ti...  "
      ]
     },
     "execution_count": 18,
     "metadata": {},
     "output_type": "execute_result"
    }
   ],
   "source": [
    "df_aggregated.sample(3)"
   ]
  },
  {
   "cell_type": "code",
   "execution_count": 19,
   "metadata": {},
   "outputs": [],
   "source": [
    "### stem the tokens\n",
    "df_aggregated['Stemmed'] = df_aggregated['Unstemmed'].apply(lambda x: [stemmer.stem(y) for y in x if y.isalnum()])"
   ]
  },
  {
   "cell_type": "code",
   "execution_count": 20,
   "metadata": {},
   "outputs": [],
   "source": [
    "## remove stop words and numbers\n",
    "df_aggregated['Clean'] = df_aggregated['Stemmed'].apply(lambda x: [y for y in x if not y.isnumeric() and not y in stopwords])"
   ]
  },
  {
   "cell_type": "code",
   "execution_count": 21,
   "metadata": {},
   "outputs": [
    {
     "data": {
      "text/html": [
       "<div>\n",
       "<style scoped>\n",
       "    .dataframe tbody tr th:only-of-type {\n",
       "        vertical-align: middle;\n",
       "    }\n",
       "\n",
       "    .dataframe tbody tr th {\n",
       "        vertical-align: top;\n",
       "    }\n",
       "\n",
       "    .dataframe thead th {\n",
       "        text-align: right;\n",
       "    }\n",
       "</style>\n",
       "<table border=\"1\" class=\"dataframe\">\n",
       "  <thead>\n",
       "    <tr style=\"text-align: right;\">\n",
       "      <th></th>\n",
       "      <th>Date</th>\n",
       "      <th>Meeting Number</th>\n",
       "      <th>Speech</th>\n",
       "      <th>Unstemmed</th>\n",
       "      <th>Stemmed</th>\n",
       "      <th>Clean</th>\n",
       "    </tr>\n",
       "  </thead>\n",
       "  <tbody>\n",
       "    <tr>\n",
       "      <th>432</th>\n",
       "      <td>2013-06-26T12:00:00</td>\n",
       "      <td>112. møde</td>\n",
       "      <td>Mødet er åbnet.,,Der er ikke mere at foretage i dette møde.Folketingets næste møde afholdes i morgen, torsdag den 27. juni 2013, kl. 10.00.Jeg henviser til den dagsorden, der fremgår af Folketinge...</td>\n",
       "      <td>[Mødet, er, åbnet, Der, er, ikke, mere, at, foretage, i, dette, møde, Folketingets, næste, møde, afholdes, i, morgen, torsdag, den, 27, juni, 2013, kl, 10, 00, Jeg, henviser, til, den, dagsorden, ...</td>\n",
       "      <td>[mød, er, åbn, der, er, ikk, mer, at, foretag, i, det, mød, folketing, næst, mød, afhold, i, morg, torsdag, den, 27, juni, 2013, kl, 10, 00, jeg, henvis, til, den, dagsord, der, fremgår, af, folke...</td>\n",
       "      <td>[mød, åbn, ikk, mer, foretag, mød, folketing, næst, mød, afhold, morg, torsdag, juni, kl, henvis, dagsord, fremgår, folketing, hjemmesid, ønsk, nog, udtal, ikk, tilfæld, så, forhandling, slut, går...</td>\n",
       "    </tr>\n",
       "    <tr>\n",
       "      <th>136</th>\n",
       "      <td>2010-12-02T10:00:00</td>\n",
       "      <td>28. møde</td>\n",
       "      <td>Mødet er åbnet.I dag er der følgende anmeldelser:Justitsministeren (Lars Barfoed):Lovforslag nr. L 89 (Forslag til lov om ændring af lov om forbrugerbeskyttelse ved erhvervelse af fast ejendom m.v...</td>\n",
       "      <td>[Mødet, er, åbnet, I, dag, er, der, følgende, anmeldelser, Justitsministeren, Lars, Barfoed, Lovforslag, nr, L, 89, Forslag, til, lov, om, ændring, af, lov, om, forbrugerbeskyttelse, ved, erhverve...</td>\n",
       "      <td>[mød, er, åbn, i, dag, er, der, følg, anmeld, justitsminist, lar, barfoed, lovforslag, nr, l, 89, forslag, til, lov, om, ændring, af, lov, om, forbrugerbeskyt, ved, erhverv, af, fast, ejendom, m, ...</td>\n",
       "      <td>[mød, åbn, dag, følg, anmeld, justitsminist, lar, barfoed, lovforslag, nr, l, forslag, lov, ændring, lov, forbrugerbeskyt, ved, erhverv, fast, ejendom, m, v, lov, omsætning, fast, ejendom, lov, au...</td>\n",
       "    </tr>\n",
       "  </tbody>\n",
       "</table>\n",
       "</div>"
      ],
      "text/plain": [
       "                    Date Meeting Number  \\\n",
       "432  2013-06-26T12:00:00      112. møde   \n",
       "136  2010-12-02T10:00:00       28. møde   \n",
       "\n",
       "                                                                                                                                                                                                      Speech  \\\n",
       "432  Mødet er åbnet.,,Der er ikke mere at foretage i dette møde.Folketingets næste møde afholdes i morgen, torsdag den 27. juni 2013, kl. 10.00.Jeg henviser til den dagsorden, der fremgår af Folketinge...   \n",
       "136  Mødet er åbnet.I dag er der følgende anmeldelser:Justitsministeren (Lars Barfoed):Lovforslag nr. L 89 (Forslag til lov om ændring af lov om forbrugerbeskyttelse ved erhvervelse af fast ejendom m.v...   \n",
       "\n",
       "                                                                                                                                                                                                   Unstemmed  \\\n",
       "432  [Mødet, er, åbnet, Der, er, ikke, mere, at, foretage, i, dette, møde, Folketingets, næste, møde, afholdes, i, morgen, torsdag, den, 27, juni, 2013, kl, 10, 00, Jeg, henviser, til, den, dagsorden, ...   \n",
       "136  [Mødet, er, åbnet, I, dag, er, der, følgende, anmeldelser, Justitsministeren, Lars, Barfoed, Lovforslag, nr, L, 89, Forslag, til, lov, om, ændring, af, lov, om, forbrugerbeskyttelse, ved, erhverve...   \n",
       "\n",
       "                                                                                                                                                                                                     Stemmed  \\\n",
       "432  [mød, er, åbn, der, er, ikk, mer, at, foretag, i, det, mød, folketing, næst, mød, afhold, i, morg, torsdag, den, 27, juni, 2013, kl, 10, 00, jeg, henvis, til, den, dagsord, der, fremgår, af, folke...   \n",
       "136  [mød, er, åbn, i, dag, er, der, følg, anmeld, justitsminist, lar, barfoed, lovforslag, nr, l, 89, forslag, til, lov, om, ændring, af, lov, om, forbrugerbeskyt, ved, erhverv, af, fast, ejendom, m, ...   \n",
       "\n",
       "                                                                                                                                                                                                       Clean  \n",
       "432  [mød, åbn, ikk, mer, foretag, mød, folketing, næst, mød, afhold, morg, torsdag, juni, kl, henvis, dagsord, fremgår, folketing, hjemmesid, ønsk, nog, udtal, ikk, tilfæld, så, forhandling, slut, går...  \n",
       "136  [mød, åbn, dag, følg, anmeld, justitsminist, lar, barfoed, lovforslag, nr, l, forslag, lov, ændring, lov, forbrugerbeskyt, ved, erhverv, fast, ejendom, m, v, lov, omsætning, fast, ejendom, lov, au...  "
      ]
     },
     "execution_count": 21,
     "metadata": {},
     "output_type": "execute_result"
    }
   ],
   "source": [
    "### data aggregated\n",
    "df_aggregated.to_pickle('FT-data-DSpace/data_agreggated.pickle')\n",
    "df_aggregated.sample(2)"
   ]
  },
  {
   "cell_type": "code",
   "execution_count": null,
   "metadata": {},
   "outputs": [],
   "source": []
  }
 ],
 "metadata": {
  "kernelspec": {
   "display_name": "Python 3",
   "language": "python",
   "name": "python3"
  },
  "language_info": {
   "codemirror_mode": {
    "name": "ipython",
    "version": 3
   },
   "file_extension": ".py",
   "mimetype": "text/x-python",
   "name": "python",
   "nbconvert_exporter": "python",
   "pygments_lexer": "ipython3",
   "version": "3.7.6"
  }
 },
 "nbformat": 4,
 "nbformat_minor": 4
}
